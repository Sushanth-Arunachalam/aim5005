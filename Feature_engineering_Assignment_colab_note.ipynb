{
  "nbformat": 4,
  "nbformat_minor": 0,
  "metadata": {
    "colab": {
      "provenance": []
    },
    "kernelspec": {
      "name": "python3",
      "display_name": "Python 3"
    },
    "language_info": {
      "name": "python"
    }
  },
  "cells": [
    {
      "cell_type": "code",
      "execution_count": 1,
      "metadata": {
        "colab": {
          "base_uri": "https://localhost:8080/"
        },
        "id": "7rLeJD_1TwD6",
        "outputId": "8a7f58c3-a97b-45f7-d075-79491483e445"
      },
      "outputs": [
        {
          "output_type": "stream",
          "name": "stdout",
          "text": [
            "Cloning into 'aim5005'...\n",
            "remote: Enumerating objects: 49, done.\u001b[K\n",
            "remote: Counting objects: 100% (20/20), done.\u001b[K\n",
            "remote: Compressing objects: 100% (14/14), done.\u001b[K\n",
            "remote: Total 49 (delta 11), reused 6 (delta 6), pack-reused 29 (from 2)\u001b[K\n",
            "Receiving objects: 100% (49/49), 12.66 KiB | 4.22 MiB/s, done.\n",
            "Resolving deltas: 100% (13/13), done.\n"
          ]
        }
      ],
      "source": [
        "!git clone https://github.com/Sushanth-Arunachalam/aim5005"
      ]
    },
    {
      "cell_type": "code",
      "source": [
        "%cd aim5005"
      ],
      "metadata": {
        "colab": {
          "base_uri": "https://localhost:8080/"
        },
        "id": "aBMx0pfMT5aW",
        "outputId": "6cfea046-cfb3-40e1-c686-f4928901a252"
      },
      "execution_count": 2,
      "outputs": [
        {
          "output_type": "stream",
          "name": "stdout",
          "text": [
            "/content/aim5005\n"
          ]
        }
      ]
    },
    {
      "cell_type": "code",
      "source": [
        "%cd tests/"
      ],
      "metadata": {
        "colab": {
          "base_uri": "https://localhost:8080/"
        },
        "id": "f4PTBcnoaafM",
        "outputId": "647c3beb-b9c2-4751-b2e1-e8b0c3915e90"
      },
      "execution_count": null,
      "outputs": [
        {
          "output_type": "stream",
          "name": "stdout",
          "text": [
            "/content/aim5005/tests\n"
          ]
        }
      ]
    },
    {
      "cell_type": "code",
      "source": [
        "!pip install pytest"
      ],
      "metadata": {
        "colab": {
          "base_uri": "https://localhost:8080/"
        },
        "id": "M5uyAnjfarPk",
        "outputId": "eda4a51b-6f58-4f70-ad94-582260d7c103"
      },
      "execution_count": null,
      "outputs": [
        {
          "output_type": "stream",
          "name": "stdout",
          "text": [
            "Requirement already satisfied: pytest in /usr/local/lib/python3.11/dist-packages (8.3.4)\n",
            "Requirement already satisfied: iniconfig in /usr/local/lib/python3.11/dist-packages (from pytest) (2.0.0)\n",
            "Requirement already satisfied: packaging in /usr/local/lib/python3.11/dist-packages (from pytest) (24.2)\n",
            "Requirement already satisfied: pluggy<2,>=1.5 in /usr/local/lib/python3.11/dist-packages (from pytest) (1.5.0)\n"
          ]
        }
      ]
    },
    {
      "cell_type": "code",
      "source": [
        "!pip install -e ."
      ],
      "metadata": {
        "colab": {
          "base_uri": "https://localhost:8080/"
        },
        "id": "So8V4wVea8nk",
        "outputId": "d5bb9fec-b943-43a2-ff40-8e5162df27e7"
      },
      "execution_count": 3,
      "outputs": [
        {
          "output_type": "stream",
          "name": "stdout",
          "text": [
            "Obtaining file:///content/aim5005\n",
            "  Preparing metadata (setup.py) ... \u001b[?25l\u001b[?25hdone\n",
            "Requirement already satisfied: numpy>=1.24.3 in /usr/local/lib/python3.11/dist-packages (from aim5005==0.1) (1.26.4)\n",
            "Requirement already satisfied: pytest in /usr/local/lib/python3.11/dist-packages (from aim5005==0.1) (8.3.4)\n",
            "Requirement already satisfied: iniconfig in /usr/local/lib/python3.11/dist-packages (from pytest->aim5005==0.1) (2.0.0)\n",
            "Requirement already satisfied: packaging in /usr/local/lib/python3.11/dist-packages (from pytest->aim5005==0.1) (24.2)\n",
            "Requirement already satisfied: pluggy<2,>=1.5 in /usr/local/lib/python3.11/dist-packages (from pytest->aim5005==0.1) (1.5.0)\n",
            "Installing collected packages: aim5005\n",
            "  Running setup.py develop for aim5005\n",
            "Successfully installed aim5005-0.1\n"
          ]
        }
      ]
    },
    {
      "cell_type": "code",
      "source": [
        "%cd .."
      ],
      "metadata": {
        "colab": {
          "base_uri": "https://localhost:8080/"
        },
        "id": "9xiS0xgYb8tG",
        "outputId": "3dcf825c-1a42-4360-eaf7-a2f35c232f1c"
      },
      "execution_count": null,
      "outputs": [
        {
          "output_type": "stream",
          "name": "stdout",
          "text": [
            "/content/aim5005\n"
          ]
        }
      ]
    },
    {
      "cell_type": "code",
      "source": [
        "%pwd"
      ],
      "metadata": {
        "colab": {
          "base_uri": "https://localhost:8080/",
          "height": 35
        },
        "id": "r5se3UzSZWKT",
        "outputId": "04b63649-fc19-4e3c-f2b4-e0bb67339aa4"
      },
      "execution_count": null,
      "outputs": [
        {
          "output_type": "execute_result",
          "data": {
            "text/plain": [
              "'/content/aim5005/tests'"
            ],
            "application/vnd.google.colaboratory.intrinsic+json": {
              "type": "string"
            }
          },
          "metadata": {},
          "execution_count": 6
        }
      ]
    },
    {
      "cell_type": "code",
      "source": [
        "!cat aim5005/features.py"
      ],
      "metadata": {
        "colab": {
          "base_uri": "https://localhost:8080/"
        },
        "id": "iKsy4hu_dE-J",
        "outputId": "18e523c0-d457-4fbe-eb7d-8d92e1b005d4"
      },
      "execution_count": null,
      "outputs": [
        {
          "output_type": "stream",
          "name": "stdout",
          "text": [
            "import numpy as np\n",
            "from typing import List, Tuple\n",
            "### YOU MANY NOT ADD ANY MORE IMPORTS (you may add more typing imports)\n",
            "\n",
            "class MinMaxScaler:\n",
            "    def __init__(self):\n",
            "        self.minimum = None\n",
            "        self.maximum = None\n",
            "        \n",
            "    def _check_is_array(self, x:np.ndarray) -> np.ndarray:\n",
            "        \"\"\"\n",
            "        Try to convert x to a np.ndarray if it'a not a np.ndarray and return. If it can't be cast raise an error\n",
            "        \"\"\"\n",
            "        if not isinstance(x, np.ndarray):\n",
            "            x = np.array(x)\n",
            "            \n",
            "        assert isinstance(x, np.ndarray), \"Expected the input to be a list\"\n",
            "        return x\n",
            "        \n",
            "    \n",
            "    def fit(self, x:np.ndarray) -> None:   \n",
            "        x = self._check_is_array(x)\n",
            "        self.minimum=x.min(axis=0)\n",
            "        self.maximum=x.max(axis=0)\n",
            "        \n",
            "    def transform(self, x:np.ndarray) -> list:\n",
            "        \"\"\"\n",
            "        MinMax Scale the given vector\n",
            "        \"\"\"\n",
            "        x = self._check_is_array(x)\n",
            "        diff_max_min = self.maximum - self.minimum\n",
            "        \n",
            "        # TODO: There is a bug here... Look carefully! \n",
            "        return x-self.minimum/(self.maximum-self.minimum)\n",
            "    \n",
            "    def fit_transform(self, x:list) -> np.ndarray:\n",
            "        x = self._check_is_array(x)\n",
            "        self.fit(x)\n",
            "        return self.transform(x)\n",
            "    \n",
            "    \n",
            "class StandardScaler:\n",
            "    def __init__(self):\n",
            "        self.mean = None\n",
            "        raise NotImplementedError"
          ]
        }
      ]
    },
    {
      "cell_type": "code",
      "source": [
        "!python3 -m pytest tests/test_features.py"
      ],
      "metadata": {
        "colab": {
          "base_uri": "https://localhost:8080/"
        },
        "id": "YtLBxgnfZhID",
        "outputId": "b8e46675-1ca1-4573-ba48-a1c4ca74a9b9"
      },
      "execution_count": 18,
      "outputs": [
        {
          "output_type": "stream",
          "name": "stdout",
          "text": [
            "\u001b[1m======================================= test session starts ========================================\u001b[0m\n",
            "platform linux -- Python 3.11.11, pytest-8.3.4, pluggy-1.5.0\n",
            "rootdir: /content/aim5005\n",
            "plugins: typeguard-4.4.1, langsmith-0.3.8, anyio-3.7.1\n",
            "\u001b[1mcollecting ... \u001b[0m\u001b[1m\rcollected 8 items                                                                                  \u001b[0m\n",
            "\n",
            "tests/test_features.py \u001b[32m.\u001b[0m\u001b[32m.\u001b[0m\u001b[32m.\u001b[0m\u001b[32m.\u001b[0m\u001b[32m.\u001b[0m\u001b[32m.\u001b[0m\u001b[32m.\u001b[0m\u001b[32m.\u001b[0m\u001b[32m                                                              [100%]\u001b[0m\n",
            "\n",
            "\u001b[32m======================================== \u001b[32m\u001b[1m8 passed\u001b[0m\u001b[32m in 0.15s\u001b[0m\u001b[32m =========================================\u001b[0m\n"
          ]
        }
      ]
    },
    {
      "cell_type": "code",
      "source": [
        "!python3 -m pytest tests/test_features.py"
      ],
      "metadata": {
        "colab": {
          "base_uri": "https://localhost:8080/"
        },
        "id": "W3FPO1SWHcKP",
        "outputId": "a9b7435c-e948-453b-a102-40b4fa3ccead"
      },
      "execution_count": 19,
      "outputs": [
        {
          "output_type": "stream",
          "name": "stdout",
          "text": [
            "\u001b[1m======================================= test session starts ========================================\u001b[0m\n",
            "platform linux -- Python 3.11.11, pytest-8.3.4, pluggy-1.5.0\n",
            "rootdir: /content/aim5005\n",
            "plugins: typeguard-4.4.1, langsmith-0.3.8, anyio-3.7.1\n",
            "\u001b[1mcollecting ... \u001b[0m\u001b[1m\rcollected 12 items                                                                                 \u001b[0m\n",
            "\n",
            "tests/test_features.py \u001b[32m.\u001b[0m\u001b[32m.\u001b[0m\u001b[32m.\u001b[0m\u001b[32m.\u001b[0m\u001b[32m.\u001b[0m\u001b[32m.\u001b[0m\u001b[32m.\u001b[0m\u001b[32m.\u001b[0m\u001b[32m.\u001b[0m\u001b[32m.\u001b[0m\u001b[32m.\u001b[0m\u001b[32m.\u001b[0m\u001b[32m                                                          [100%]\u001b[0m\n",
            "\n",
            "\u001b[32m======================================== \u001b[32m\u001b[1m12 passed\u001b[0m\u001b[32m in 0.15s\u001b[0m\u001b[32m ========================================\u001b[0m\n"
          ]
        }
      ]
    }
  ]
}